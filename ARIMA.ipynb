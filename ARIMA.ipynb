{
 "cells": [
  {
   "cell_type": "markdown",
   "source": [
    "# Forecasting Bitcoin price with ARIMA model"
   ],
   "metadata": {}
  },
  {
   "cell_type": "code",
   "execution_count": null,
   "source": [
    "import matplotlib.pyplot as plt\n",
    "import numpy as np\n",
    "import pandas as pd\n",
    "from statsmodels.tsa.stattools import adfuller, arma_order_select_ic\n",
    "from statsmodels.stats.diagnostic import acorr_ljungbox\n",
    "import statsmodels.api as sm\n",
    "from statsmodels.tsa.arima.model import ARIMA\n",
    "import warnings\n",
    "\n",
    "warnings.simplefilter('ignore')\n",
    "\n",
    "plt.rcParams['figure.figsize'] = (12, 6)"
   ],
   "outputs": [],
   "metadata": {}
  },
  {
   "cell_type": "code",
   "execution_count": 153,
   "source": [
    "start, train_size, test_size = 3800, 600, 85 # window on which we fit and test our model # 3800 600 85\n",
    "\n",
    "data = pd.read_csv('data/bitcoin.csv', index_col=0)\n",
    "\n",
    "data"
   ],
   "outputs": [
    {
     "output_type": "execute_result",
     "data": {
      "text/html": [
       "<div>\n",
       "<style scoped>\n",
       "    .dataframe tbody tr th:only-of-type {\n",
       "        vertical-align: middle;\n",
       "    }\n",
       "\n",
       "    .dataframe tbody tr th {\n",
       "        vertical-align: top;\n",
       "    }\n",
       "\n",
       "    .dataframe thead th {\n",
       "        text-align: right;\n",
       "    }\n",
       "</style>\n",
       "<table border=\"1\" class=\"dataframe\">\n",
       "  <thead>\n",
       "    <tr style=\"text-align: right;\">\n",
       "      <th></th>\n",
       "      <th>Open</th>\n",
       "      <th>High</th>\n",
       "      <th>Low</th>\n",
       "      <th>Close</th>\n",
       "      <th>Volume</th>\n",
       "      <th>Dividends</th>\n",
       "      <th>Stock Splits</th>\n",
       "    </tr>\n",
       "    <tr>\n",
       "      <th>Date</th>\n",
       "      <th></th>\n",
       "      <th></th>\n",
       "      <th></th>\n",
       "      <th></th>\n",
       "      <th></th>\n",
       "      <th></th>\n",
       "      <th></th>\n",
       "    </tr>\n",
       "  </thead>\n",
       "  <tbody>\n",
       "    <tr>\n",
       "      <th>2004-08-19</th>\n",
       "      <td>49.813290</td>\n",
       "      <td>51.835709</td>\n",
       "      <td>47.800831</td>\n",
       "      <td>49.982655</td>\n",
       "      <td>44871361</td>\n",
       "      <td>0</td>\n",
       "      <td>0.0</td>\n",
       "    </tr>\n",
       "    <tr>\n",
       "      <th>2004-08-20</th>\n",
       "      <td>50.316402</td>\n",
       "      <td>54.336334</td>\n",
       "      <td>50.062355</td>\n",
       "      <td>53.952770</td>\n",
       "      <td>22942874</td>\n",
       "      <td>0</td>\n",
       "      <td>0.0</td>\n",
       "    </tr>\n",
       "    <tr>\n",
       "      <th>2004-08-23</th>\n",
       "      <td>55.168217</td>\n",
       "      <td>56.528118</td>\n",
       "      <td>54.321388</td>\n",
       "      <td>54.495735</td>\n",
       "      <td>18342897</td>\n",
       "      <td>0</td>\n",
       "      <td>0.0</td>\n",
       "    </tr>\n",
       "    <tr>\n",
       "      <th>2004-08-24</th>\n",
       "      <td>55.412300</td>\n",
       "      <td>55.591629</td>\n",
       "      <td>51.591621</td>\n",
       "      <td>52.239197</td>\n",
       "      <td>15319808</td>\n",
       "      <td>0</td>\n",
       "      <td>0.0</td>\n",
       "    </tr>\n",
       "    <tr>\n",
       "      <th>2004-08-25</th>\n",
       "      <td>52.284027</td>\n",
       "      <td>53.798351</td>\n",
       "      <td>51.746044</td>\n",
       "      <td>52.802086</td>\n",
       "      <td>9232276</td>\n",
       "      <td>0</td>\n",
       "      <td>0.0</td>\n",
       "    </tr>\n",
       "    <tr>\n",
       "      <th>...</th>\n",
       "      <td>...</td>\n",
       "      <td>...</td>\n",
       "      <td>...</td>\n",
       "      <td>...</td>\n",
       "      <td>...</td>\n",
       "      <td>...</td>\n",
       "      <td>...</td>\n",
       "    </tr>\n",
       "    <tr>\n",
       "      <th>2022-06-13</th>\n",
       "      <td>2148.919922</td>\n",
       "      <td>2184.370117</td>\n",
       "      <td>2131.760986</td>\n",
       "      <td>2137.530029</td>\n",
       "      <td>1837800</td>\n",
       "      <td>0</td>\n",
       "      <td>0.0</td>\n",
       "    </tr>\n",
       "    <tr>\n",
       "      <th>2022-06-14</th>\n",
       "      <td>2137.800049</td>\n",
       "      <td>2169.149902</td>\n",
       "      <td>2127.040039</td>\n",
       "      <td>2143.879883</td>\n",
       "      <td>1274000</td>\n",
       "      <td>0</td>\n",
       "      <td>0.0</td>\n",
       "    </tr>\n",
       "    <tr>\n",
       "      <th>2022-06-15</th>\n",
       "      <td>2177.989990</td>\n",
       "      <td>2241.260010</td>\n",
       "      <td>2162.375000</td>\n",
       "      <td>2207.810059</td>\n",
       "      <td>1659600</td>\n",
       "      <td>0</td>\n",
       "      <td>0.0</td>\n",
       "    </tr>\n",
       "    <tr>\n",
       "      <th>2022-06-16</th>\n",
       "      <td>2162.989990</td>\n",
       "      <td>2185.810059</td>\n",
       "      <td>2115.850098</td>\n",
       "      <td>2132.719971</td>\n",
       "      <td>1765700</td>\n",
       "      <td>0</td>\n",
       "      <td>0.0</td>\n",
       "    </tr>\n",
       "    <tr>\n",
       "      <th>2022-06-17</th>\n",
       "      <td>2130.699951</td>\n",
       "      <td>2184.989990</td>\n",
       "      <td>2112.571045</td>\n",
       "      <td>2157.310059</td>\n",
       "      <td>2163500</td>\n",
       "      <td>0</td>\n",
       "      <td>0.0</td>\n",
       "    </tr>\n",
       "  </tbody>\n",
       "</table>\n",
       "<p>4490 rows × 7 columns</p>\n",
       "</div>"
      ],
      "text/plain": [
       "                   Open         High          Low        Close    Volume  \\\n",
       "Date                                                                       \n",
       "2004-08-19    49.813290    51.835709    47.800831    49.982655  44871361   \n",
       "2004-08-20    50.316402    54.336334    50.062355    53.952770  22942874   \n",
       "2004-08-23    55.168217    56.528118    54.321388    54.495735  18342897   \n",
       "2004-08-24    55.412300    55.591629    51.591621    52.239197  15319808   \n",
       "2004-08-25    52.284027    53.798351    51.746044    52.802086   9232276   \n",
       "...                 ...          ...          ...          ...       ...   \n",
       "2022-06-13  2148.919922  2184.370117  2131.760986  2137.530029   1837800   \n",
       "2022-06-14  2137.800049  2169.149902  2127.040039  2143.879883   1274000   \n",
       "2022-06-15  2177.989990  2241.260010  2162.375000  2207.810059   1659600   \n",
       "2022-06-16  2162.989990  2185.810059  2115.850098  2132.719971   1765700   \n",
       "2022-06-17  2130.699951  2184.989990  2112.571045  2157.310059   2163500   \n",
       "\n",
       "            Dividends  Stock Splits  \n",
       "Date                                 \n",
       "2004-08-19          0           0.0  \n",
       "2004-08-20          0           0.0  \n",
       "2004-08-23          0           0.0  \n",
       "2004-08-24          0           0.0  \n",
       "2004-08-25          0           0.0  \n",
       "...               ...           ...  \n",
       "2022-06-13          0           0.0  \n",
       "2022-06-14          0           0.0  \n",
       "2022-06-15          0           0.0  \n",
       "2022-06-16          0           0.0  \n",
       "2022-06-17          0           0.0  \n",
       "\n",
       "[4490 rows x 7 columns]"
      ]
     },
     "metadata": {},
     "execution_count": 153
    }
   ],
   "metadata": {}
  },
  {
   "cell_type": "code",
   "execution_count": 154,
   "source": [
    "price = data['Close']\n",
    "\n",
    "plt.plot(price)\n",
    "plt.plot(price.iloc[start:start+train_size], label='training window')\n",
    "plt.title('Evolution of price of Bitcoin')\n",
    "plt.ylabel('Price in USD')\n",
    "plt.xlabel('Time')\n",
    "plt.legend()\n",
    "plt.xticks([price.index[i*(len(price)-1)//4]for i in range(5)])\n",
    "plt.show()\n"
   ],
   "outputs": [
    {
     "output_type": "display_data",
     "data": {
      "image/png": "[encoded data removed]",
      "text/plain": [
       "<Figure size 864x432 with 1 Axes>"
      ]
     },
     "metadata": {
      "needs_background": "light"
     }
    }
   ],
   "metadata": {}
  },
  {
   "cell_type": "code",
   "execution_count": 155,
   "source": [
    "log_price = price.map(np.log)\n",
    "\n",
    "log_price"
   ],
   "outputs": [
    {
     "output_type": "execute_result",
     "data": {
      "text/plain": [
       "Date\n",
       "2004-08-19    3.911676\n",
       "2004-08-20    3.988109\n",
       "2004-08-23    3.998122\n",
       "2004-08-24    3.955833\n",
       "2004-08-25    3.966551\n",
       "                ...   \n",
       "2022-06-13    7.667406\n",
       "2022-06-14    7.670372\n",
       "2022-06-15    7.699756\n",
       "2022-06-16    7.665153\n",
       "2022-06-17    7.676617\n",
       "Name: Close, Length: 4490, dtype: float64"
      ]
     },
     "metadata": {},
     "execution_count": 155
    }
   ],
   "metadata": {}
  },
  {
   "cell_type": "code",
   "execution_count": 156,
   "source": [
    "# Making the data stationnary\n",
    "\n",
    "log_p_train = log_price.iloc[start:start+train_size].to_numpy()\n",
    "\n",
    "d = 0\n",
    "while adfuller(np.diff(log_p_train, d))[1] >= 0.01: # we chose a p-value of 0.01\n",
    "    d += 1\n",
    "\n",
    "print('log-prices are I({}).'.format(d))"
   ],
   "outputs": [
    {
     "output_type": "stream",
     "name": "stdout",
     "text": [
      "log-prices are I(1).\n"
     ]
    }
   ],
   "metadata": {}
  },
  {
   "cell_type": "code",
   "execution_count": 157,
   "source": [
    "log_ret = pd.DataFrame({'log_ret': np.diff(log_price, 1)}, index=log_price.index[1:])\n",
    "\n",
    "log_ret_train = log_ret.iloc[start:start+train_size]\n",
    "\n",
    "log_ret_train"
   ],
   "outputs": [
    {
     "output_type": "execute_result",
     "data": {
      "text/html": [
       "<div>\n",
       "<style scoped>\n",
       "    .dataframe tbody tr th:only-of-type {\n",
       "        vertical-align: middle;\n",
       "    }\n",
       "\n",
       "    .dataframe tbody tr th {\n",
       "        vertical-align: top;\n",
       "    }\n",
       "\n",
       "    .dataframe thead th {\n",
       "        text-align: right;\n",
       "    }\n",
       "</style>\n",
       "<table border=\"1\" class=\"dataframe\">\n",
       "  <thead>\n",
       "    <tr style=\"text-align: right;\">\n",
       "      <th></th>\n",
       "      <th>log_ret</th>\n",
       "    </tr>\n",
       "    <tr>\n",
       "      <th>Date</th>\n",
       "      <th></th>\n",
       "    </tr>\n",
       "  </thead>\n",
       "  <tbody>\n",
       "    <tr>\n",
       "      <th>2019-09-25</th>\n",
       "      <td>0.022522</td>\n",
       "    </tr>\n",
       "    <tr>\n",
       "      <th>2019-09-26</th>\n",
       "      <td>-0.004124</td>\n",
       "    </tr>\n",
       "    <tr>\n",
       "      <th>2019-09-27</th>\n",
       "      <td>-0.013217</td>\n",
       "    </tr>\n",
       "    <tr>\n",
       "      <th>2019-09-30</th>\n",
       "      <td>-0.004983</td>\n",
       "    </tr>\n",
       "    <tr>\n",
       "      <th>2019-10-01</th>\n",
       "      <td>-0.011468</td>\n",
       "    </tr>\n",
       "    <tr>\n",
       "      <th>...</th>\n",
       "      <td>...</td>\n",
       "    </tr>\n",
       "    <tr>\n",
       "      <th>2022-02-03</th>\n",
       "      <td>-0.037061</td>\n",
       "    </tr>\n",
       "    <tr>\n",
       "      <th>2022-02-04</th>\n",
       "      <td>0.002559</td>\n",
       "    </tr>\n",
       "    <tr>\n",
       "      <th>2022-02-07</th>\n",
       "      <td>-0.028929</td>\n",
       "    </tr>\n",
       "    <tr>\n",
       "      <th>2022-02-08</th>\n",
       "      <td>0.001977</td>\n",
       "    </tr>\n",
       "    <tr>\n",
       "      <th>2022-02-09</th>\n",
       "      <td>0.015962</td>\n",
       "    </tr>\n",
       "  </tbody>\n",
       "</table>\n",
       "<p>600 rows × 1 columns</p>\n",
       "</div>"
      ],
      "text/plain": [
       "             log_ret\n",
       "Date                \n",
       "2019-09-25  0.022522\n",
       "2019-09-26 -0.004124\n",
       "2019-09-27 -0.013217\n",
       "2019-09-30 -0.004983\n",
       "2019-10-01 -0.011468\n",
       "...              ...\n",
       "2022-02-03 -0.037061\n",
       "2022-02-04  0.002559\n",
       "2022-02-07 -0.028929\n",
       "2022-02-08  0.001977\n",
       "2022-02-09  0.015962\n",
       "\n",
       "[600 rows x 1 columns]"
      ]
     },
     "metadata": {},
     "execution_count": 157
    }
   ],
   "metadata": {}
  },
  {
   "cell_type": "code",
   "execution_count": 158,
   "source": [
    "# plotting acf and pacf\n",
    "\n",
    "fig, axs = plt.subplots(nrows=1, ncols=2)\n",
    "\n",
    "sm.graphics.tsa.plot_acf(log_ret_train, ax=axs[0])\n",
    "sm.graphics.tsa.plot_pacf(log_ret_train, ax=axs[1])\n",
    "\n",
    "plt.show()"
   ],
   "outputs": [
    {
     "output_type": "display_data",
     "data": {
      "image/png": "[encoded data removed]",
      "text/plain": [
       "<Figure size 864x432 with 2 Axes>"
      ]
     },
     "metadata": {
      "needs_background": "light"
     }
    }
   ],
   "metadata": {}
  },
  {
   "cell_type": "code",
   "execution_count": 159,
   "source": [
    "# fitting ARIMA\n",
    "\n",
    "order_select = arma_order_select_ic(log_ret_train, max_ar=4, max_ma=4, ic='bic')\n",
    "\n",
    "order_select"
   ],
   "outputs": [
    {
     "output_type": "execute_result",
     "data": {
      "text/plain": [
       "{'bic':              0            1            2            3            4\n",
       " 0 -3018.631793 -3034.845307 -3035.818511 -3030.263872 -3024.028766\n",
       " 1 -3039.085352 -3035.278711 -3030.052786 -3024.150277 -3017.794424\n",
       " 2 -3036.124071 -3029.755842 -3056.171065 -3018.208881 -3014.415527\n",
       " 3 -3029.792307 -3023.411193 -3023.576837 -3046.391316 -3010.748015\n",
       " 4 -3024.831755 -3030.236632 -3043.763106 -3037.382219 -3033.857391,\n",
       " 'bic_min_order': (2, 2)}"
      ]
     },
     "metadata": {},
     "execution_count": 159
    }
   ],
   "metadata": {}
  },
  {
   "cell_type": "code",
   "execution_count": 160,
   "source": [
    "acorr_ljungbox(log_ret_train)"
   ],
   "outputs": [
    {
     "output_type": "execute_result",
     "data": {
      "text/plain": [
       "(array([ 26.35553186,  34.482879  ,  34.9943153 ,  35.68586453,\n",
       "         36.53353871,  46.50598127,  71.11569477,  83.17651423,\n",
       "         98.03068212, 100.08838762, 100.16380772, 104.05757081,\n",
       "        114.04846109, 120.65897271, 127.58726267, 142.34098851,\n",
       "        148.9289251 , 150.04815082, 150.92882119, 153.97647863,\n",
       "        155.80011778, 164.8356096 , 164.94308177, 166.71866746,\n",
       "        169.91749321, 175.44311364, 175.71868756, 176.58427506,\n",
       "        177.51945793, 177.70279054, 178.09544074, 178.87297349,\n",
       "        183.20022212, 185.0885282 , 186.09692346, 186.13053347,\n",
       "        186.41644338, 186.42020288, 186.61767195, 186.61782185]),\n",
       " array([2.84004323e-07, 3.25190586e-08, 1.22162333e-07, 3.35785133e-07,\n",
       "        7.42765174e-07, 2.34743076e-08, 8.78845944e-13, 1.11917175e-14,\n",
       "        3.93458681e-17, 5.23217809e-17, 1.65730849e-16, 8.89538933e-17,\n",
       "        2.99905216e-18, 4.67442528e-19, 6.30290880e-20, 2.50592192e-22,\n",
       "        3.96570574e-23, 7.27384969e-23, 1.45050896e-22, 1.08557911e-22,\n",
       "        1.37827168e-22, 7.28153026e-24, 1.93652272e-23, 2.44015843e-23,\n",
       "        1.63991839e-23, 4.00826301e-24, 9.39964791e-24, 1.68315863e-23,\n",
       "        2.88561080e-23, 6.70862709e-23, 1.40557094e-22, 2.47194821e-22,\n",
       "        9.82161167e-23, 1.07348823e-22, 1.67573545e-22, 3.86327194e-22,\n",
       "        7.92449036e-22, 1.79974088e-21, 3.73060741e-21, 8.26680354e-21]))"
      ]
     },
     "metadata": {},
     "execution_count": 160
    }
   ],
   "metadata": {}
  },
  {
   "cell_type": "code",
   "execution_count": 163,
   "source": [
    "# Evaluating a model on out-of-sample data\n",
    "\n",
    "best_model = ARIMA(log_ret_train, order=(2, 0, 2)).fit()\n",
    "\n",
    "best_model.summary()"
   ],
   "outputs": [
    {
     "output_type": "execute_result",
     "data": {
      "text/html": [
       "<table class=\"simpletable\">\n",
       "<caption>SARIMAX Results</caption>\n",
       "<tr>\n",
       "  <th>Dep. Variable:</th>        <td>log_ret</td>     <th>  No. Observations:  </th>    <td>600</td>   \n",
       "</tr>\n",
       "<tr>\n",
       "  <th>Model:</th>            <td>ARIMA(2, 0, 2)</td>  <th>  Log Likelihood     </th> <td>1530.979</td> \n",
       "</tr>\n",
       "<tr>\n",
       "  <th>Date:</th>            <td>Fri, 24 Jun 2022</td> <th>  AIC                </th> <td>-3049.959</td>\n",
       "</tr>\n",
       "<tr>\n",
       "  <th>Time:</th>                <td>00:13:24</td>     <th>  BIC                </th> <td>-3023.577</td>\n",
       "</tr>\n",
       "<tr>\n",
       "  <th>Sample:</th>                  <td>0</td>        <th>  HQIC               </th> <td>-3039.689</td>\n",
       "</tr>\n",
       "<tr>\n",
       "  <th></th>                      <td> - 600</td>      <th>                     </th>     <td> </td>    \n",
       "</tr>\n",
       "<tr>\n",
       "  <th>Covariance Type:</th>        <td>opg</td>       <th>                     </th>     <td> </td>    \n",
       "</tr>\n",
       "</table>\n",
       "<table class=\"simpletable\">\n",
       "<tr>\n",
       "     <td></td>       <th>coef</th>     <th>std err</th>      <th>z</th>      <th>P>|z|</th>  <th>[0.025</th>    <th>0.975]</th>  \n",
       "</tr>\n",
       "<tr>\n",
       "  <th>const</th>  <td>    0.0014</td> <td>    0.001</td> <td>    1.957</td> <td> 0.050</td> <td>-1.82e-06</td> <td>    0.003</td>\n",
       "</tr>\n",
       "<tr>\n",
       "  <th>ar.L1</th>  <td>   -0.4992</td> <td>    1.437</td> <td>   -0.347</td> <td> 0.728</td> <td>   -3.316</td> <td>    2.317</td>\n",
       "</tr>\n",
       "<tr>\n",
       "  <th>ar.L2</th>  <td>   -0.0699</td> <td>    0.722</td> <td>   -0.097</td> <td> 0.923</td> <td>   -1.484</td> <td>    1.345</td>\n",
       "</tr>\n",
       "<tr>\n",
       "  <th>ma.L1</th>  <td>    0.3039</td> <td>    1.440</td> <td>    0.211</td> <td> 0.833</td> <td>   -2.519</td> <td>    3.126</td>\n",
       "</tr>\n",
       "<tr>\n",
       "  <th>ma.L2</th>  <td>    0.0854</td> <td>    0.445</td> <td>    0.192</td> <td> 0.848</td> <td>   -0.787</td> <td>    0.958</td>\n",
       "</tr>\n",
       "<tr>\n",
       "  <th>sigma2</th> <td>    0.0004</td> <td> 1.25e-05</td> <td>   28.501</td> <td> 0.000</td> <td>    0.000</td> <td>    0.000</td>\n",
       "</tr>\n",
       "</table>\n",
       "<table class=\"simpletable\">\n",
       "<tr>\n",
       "  <th>Ljung-Box (L1) (Q):</th>     <td>0.00</td> <th>  Jarque-Bera (JB):  </th> <td>491.75</td>\n",
       "</tr>\n",
       "<tr>\n",
       "  <th>Prob(Q):</th>                <td>0.97</td> <th>  Prob(JB):          </th>  <td>0.00</td> \n",
       "</tr>\n",
       "<tr>\n",
       "  <th>Heteroskedasticity (H):</th> <td>0.44</td> <th>  Skew:              </th>  <td>-0.22</td>\n",
       "</tr>\n",
       "<tr>\n",
       "  <th>Prob(H) (two-sided):</th>    <td>0.00</td> <th>  Kurtosis:          </th>  <td>7.41</td> \n",
       "</tr>\n",
       "</table><br/><br/>Warnings:<br/>[1] Covariance matrix calculated using the outer product of gradients (complex-step)."
      ],
      "text/plain": [
       "<class 'statsmodels.iolib.summary.Summary'>\n",
       "\"\"\"\n",
       "                               SARIMAX Results                                \n",
       "==============================================================================\n",
       "Dep. Variable:                log_ret   No. Observations:                  600\n",
       "Model:                 ARIMA(2, 0, 2)   Log Likelihood                1530.979\n",
       "Date:                Fri, 24 Jun 2022   AIC                          -3049.959\n",
       "Time:                        00:13:24   BIC                          -3023.577\n",
       "Sample:                             0   HQIC                         -3039.689\n",
       "                                - 600                                         \n",
       "Covariance Type:                  opg                                         \n",
       "==============================================================================\n",
       "                 coef    std err          z      P>|z|      [0.025      0.975]\n",
       "------------------------------------------------------------------------------\n",
       "const          0.0014      0.001      1.957      0.050   -1.82e-06       0.003\n",
       "ar.L1         -0.4992      1.437     -0.347      0.728      -3.316       2.317\n",
       "ar.L2         -0.0699      0.722     -0.097      0.923      -1.484       1.345\n",
       "ma.L1          0.3039      1.440      0.211      0.833      -2.519       3.126\n",
       "ma.L2          0.0854      0.445      0.192      0.848      -0.787       0.958\n",
       "sigma2         0.0004   1.25e-05     28.501      0.000       0.000       0.000\n",
       "===================================================================================\n",
       "Ljung-Box (L1) (Q):                   0.00   Jarque-Bera (JB):               491.75\n",
       "Prob(Q):                              0.97   Prob(JB):                         0.00\n",
       "Heteroskedasticity (H):               0.44   Skew:                            -0.22\n",
       "Prob(H) (two-sided):                  0.00   Kurtosis:                         7.41\n",
       "===================================================================================\n",
       "\n",
       "Warnings:\n",
       "[1] Covariance matrix calculated using the outer product of gradients (complex-step).\n",
       "\"\"\""
      ]
     },
     "metadata": {},
     "execution_count": 163
    }
   ],
   "metadata": {}
  },
  {
   "cell_type": "code",
   "execution_count": 164,
   "source": [
    "log_ret_pred = best_model.forecast(test_size)\n",
    "\n",
    "plt.plot(log_ret.iloc[start:start+train_size+test_size], color='blue')\n",
    "plt.plot(log_ret.iloc[start+train_size:start+train_size+test_size].index, log_ret_pred, color='red')\n",
    "plt.show()"
   ],
   "outputs": [
    {
     "output_type": "display_data",
     "data": {
      "image/png": "[encoded data removed]",
      "text/plain": [
       "<Figure size 864x432 with 1 Axes>"
      ]
     },
     "metadata": {
      "needs_background": "light"
     }
    }
   ],
   "metadata": {}
  },
  {
   "cell_type": "markdown",
   "source": [
    "## Biblio\n",
    "\n",
    "https://arxiv.org/pdf/1904.05315.pdf\n",
    "https://ieeexplore.ieee.org/stamp/stamp.jsp?tp=&arnumber=8566476\n",
    "https://books.google.fr/books?hl=fr&lr=&id=671dDwAAQBAJ&oi=fnd&pg=PA171&dq=ARIMA+bitcoin&ots=xKGdfBeQMf&sig=u8lfL_yi7BexZtvlFRXmE2pxMeM&redir_esc=y#v=onepage&q=ARIMA%20bitcoin&f=false\n",
    "https://ieeexplore.ieee.org/abstract/document/8374483?casa_token=8ikJY0BaAg4AAAAA:wlMUuRELtPK6vkkULQdThDYT-obu49QSPgq-PNuMzMHyTXXLVZiY_yjSmsgn_iN43ynbGtp4Ky1V\n",
    "\n",
    "## Remarques\n",
    "\n",
    "On peut utiliser :\n",
    "- un modèle ARIMA (modèle plus simple que les deux prochains, plus facile à expliquer, plus rapide)\n",
    "- un RNN LSTM (doit superformer ARIMA, surtout pour des prédictions sur des temps longs)\n",
    "- Prophet (doit surperformer ARIMA également)\n",
    "\n",
    "On peut ajouter des features (tweets en rapport avec le bitcoin, prix d'autres cryptomonnaies, volumes, etc.) => multivariate time-series forecasting \n",
    "On peut prendre un dataset avec les prix à la minute."
   ],
   "metadata": {}
  }
 ],
 "metadata": {
  "kernelspec": {
   "name": "python3",
   "display_name": "Python 3.8.5 64-bit ('base': conda)"
  },
  "language_info": {
   "codemirror_mode": {
    "name": "ipython",
    "version": 3
   },
   "file_extension": ".py",
   "mimetype": "text/x-python",
   "name": "python",
   "nbconvert_exporter": "python",
   "pygments_lexer": "ipython3",
   "version": "3.8.5"
  },
  "vscode": {
   "interpreter": {
    "hash": "c0aaa9425fe1c2684892652a254f110e4b087a8475ba0c4f3a3d1115059c1ab3"
   }
  },
  "interpreter": {
   "hash": "26dc19569428b8d5e0a795c5a303fa85ffa76737f9f355202c80d5ea2f8c3ad6"
  }
 },
 "nbformat": 4,
 "nbformat_minor": 4
}